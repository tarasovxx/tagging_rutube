{
 "cells": [
  {
   "cell_type": "code",
   "execution_count": 70,
   "id": "initial_id",
   "metadata": {
    "collapsed": true,
    "ExecuteTime": {
     "end_time": "2024-09-28T07:37:57.878985Z",
     "start_time": "2024-09-28T07:37:57.868593Z"
    }
   },
   "outputs": [],
   "source": [
    "import numpy as np\n",
    "import pandas as pd\n",
    "from sklearn.model_selection import train_test_split\n",
    "from torch import nn\n",
    "from transformers import BertTokenizer, BertForSequenceClassification\n",
    "from transformers import Trainer, TrainingArguments\n",
    "import torch\n",
    "from torch.utils.data import Dataset"
   ]
  },
  {
   "cell_type": "code",
   "execution_count": 71,
   "outputs": [
    {
     "data": {
      "text/plain": "['Транспорт',\n 'Транспорт: Типы кузова автомобиля',\n 'Транспорт: Типы кузова автомобиля: Грузовой автомобиль',\n 'Транспорт: Типы кузова автомобиля: Седан',\n 'Транспорт: Типы кузова автомобиля: Универсал']"
     },
     "execution_count": 71,
     "metadata": {},
     "output_type": "execute_result"
    }
   ],
   "source": [
    "from utils import get_flatten_iab_tags\n",
    "\n",
    "iab_tags = get_flatten_iab_tags('baseline/IAB_tags.csv')\n",
    "iab_tags[:5]"
   ],
   "metadata": {
    "collapsed": false,
    "ExecuteTime": {
     "end_time": "2024-09-28T07:37:57.884539Z",
     "start_time": "2024-09-28T07:37:57.872944Z"
    }
   },
   "id": "f85e55fc65aee33a"
  },
  {
   "cell_type": "code",
   "execution_count": 72,
   "outputs": [],
   "source": [
    "class VideoDataset(Dataset):\n",
    "   def __init__(self, descriptions, tags, tokenizer, max_len):\n",
    "\t   self.descriptions = descriptions\n",
    "\t   self.tags = tags\n",
    "\t   self.tokenizer = tokenizer\n",
    "\t   self.max_len = max_len\n",
    "\t   self.max_tags = len(iab_tags)\n",
    "\n",
    "   def __len__(self):\n",
    "\t   return len(self.descriptions)\n",
    "\n",
    "   def __getitem__(self, idx):\n",
    "\t   description = str(self.descriptions[idx])\n",
    "\t   tag = self.tags[idx]\n",
    "\n",
    "\t   inputs = self.tokenizer(description, max_length=self.max_len, padding='max_length', truncation=True, return_tensors='pt')\n",
    "\t   \n",
    "\t   tag_tensor = np.zeros(self.max_tags)\n",
    "\t   for t in tag:\n",
    "\t\t   if t < self.max_tags:\n",
    "\t\t\t   tag_tensor[t] = 1.0\n",
    "\n",
    "\t   return {\n",
    "\t\t   'input_ids': inputs['input_ids'].flatten(),\n",
    "\t\t   'attention_mask': inputs['attention_mask'].flatten(),\n",
    "\t\t   'labels': torch.tensor(tag_tensor, dtype=torch.float)\n",
    "\t   }"
   ],
   "metadata": {
    "collapsed": false,
    "ExecuteTime": {
     "end_time": "2024-09-28T07:37:57.906267Z",
     "start_time": "2024-09-28T07:37:57.884163Z"
    }
   },
   "id": "13e1aa5f188580aa"
  },
  {
   "cell_type": "code",
   "execution_count": 73,
   "outputs": [],
   "source": [
    "class VideoTaggerModel(BertForSequenceClassification):\n",
    "    def forward(self, input_ids, attention_mask=None, labels=None, **kwargs):\n",
    "        outputs = super(VideoTaggerModel, self).forward(input_ids, attention_mask=attention_mask, **kwargs)\n",
    "        logits = outputs.logits\n",
    "\n",
    "        if labels is not None:\n",
    "            loss_fct = nn.BCEWithLogitsLoss()\n",
    "            # Применим sigmoid для логитов\n",
    "            loss = loss_fct(logits, labels)\n",
    "            return loss, logits\n",
    "        \n",
    "        return logits"
   ],
   "metadata": {
    "collapsed": false,
    "ExecuteTime": {
     "end_time": "2024-09-28T07:37:57.906992Z",
     "start_time": "2024-09-28T07:37:57.884343Z"
    }
   },
   "id": "f31965735ae8543"
  },
  {
   "cell_type": "code",
   "execution_count": 74,
   "outputs": [
    {
     "data": {
      "text/plain": "                           video_id  \\\n0  9007f33c8347924ffa12f922da2a179d   \n1  9012707c45233bd601dead57bc9e2eca   \n2  e01d6ebabbc27e323fa1b7c581e9b96a   \n3  a00b145242be3ebc3b311455e94917af   \n4  b01a682bf4dfcc09f1e8fac5bc18785a   \n\n                                               title  \\\n0  Пацанский клининг. Шоу «ЧистоТачка» | Повелите...   \n1  СarJitsu. 3 сезон, 6 серия. Нарек Симонян vs Ж...   \n2  Злые языки | Выпуск 1, Сезон 1 | Непорочность ...   \n3                 $1000 шоу | 1 выпуск | Автобоулинг   \n4                    В РОТ МНЕ НОТЫ #1 ВИТА ЧИКОВАНИ   \n\n                                         description  \\\n0  Тяпа и Егор бросили вызов нестареющему «повели...   \n1  CarJitsu — бои в формате POP MMA, где вместо р...   \n2  Почему Дана Борисова предпочитает молчать о по...   \n3  В этом выпуске, популярный автоблогер Дима Гор...   \n4  В первом выпуске «В рот мне ноты» популярная п...   \n\n                                                tags  \\\n0                   Массовая культура: Юмор и сатира   \n1  События и достопримечательности:  Спортивные с...   \n2  Массовая культура: Отношения знаменитостей, Ма...   \n3     Транспорт, Спорт: Автогонки, Массовая культура   \n4                   Массовая культура: Юмор и сатира   \n\n                                       splitted_tags  \n0                 [Массовая культура: Юмор и сатира]  \n1  [События и достопримечательности: Спортивные с...  \n2  [Массовая культура: Отношения знаменитостей, М...  \n3   [Транспорт, Спорт: Автогонки, Массовая культура]  \n4                 [Массовая культура: Юмор и сатира]  ",
      "text/html": "<div>\n<style scoped>\n    .dataframe tbody tr th:only-of-type {\n        vertical-align: middle;\n    }\n\n    .dataframe tbody tr th {\n        vertical-align: top;\n    }\n\n    .dataframe thead th {\n        text-align: right;\n    }\n</style>\n<table border=\"1\" class=\"dataframe\">\n  <thead>\n    <tr style=\"text-align: right;\">\n      <th></th>\n      <th>video_id</th>\n      <th>title</th>\n      <th>description</th>\n      <th>tags</th>\n      <th>splitted_tags</th>\n    </tr>\n  </thead>\n  <tbody>\n    <tr>\n      <th>0</th>\n      <td>9007f33c8347924ffa12f922da2a179d</td>\n      <td>Пацанский клининг. Шоу «ЧистоТачка» | Повелите...</td>\n      <td>Тяпа и Егор бросили вызов нестареющему «повели...</td>\n      <td>Массовая культура: Юмор и сатира</td>\n      <td>[Массовая культура: Юмор и сатира]</td>\n    </tr>\n    <tr>\n      <th>1</th>\n      <td>9012707c45233bd601dead57bc9e2eca</td>\n      <td>СarJitsu. 3 сезон, 6 серия. Нарек Симонян vs Ж...</td>\n      <td>CarJitsu — бои в формате POP MMA, где вместо р...</td>\n      <td>События и достопримечательности:  Спортивные с...</td>\n      <td>[События и достопримечательности: Спортивные с...</td>\n    </tr>\n    <tr>\n      <th>2</th>\n      <td>e01d6ebabbc27e323fa1b7c581e9b96a</td>\n      <td>Злые языки | Выпуск 1, Сезон 1 | Непорочность ...</td>\n      <td>Почему Дана Борисова предпочитает молчать о по...</td>\n      <td>Массовая культура: Отношения знаменитостей, Ма...</td>\n      <td>[Массовая культура: Отношения знаменитостей, М...</td>\n    </tr>\n    <tr>\n      <th>3</th>\n      <td>a00b145242be3ebc3b311455e94917af</td>\n      <td>$1000 шоу | 1 выпуск | Автобоулинг</td>\n      <td>В этом выпуске, популярный автоблогер Дима Гор...</td>\n      <td>Транспорт, Спорт: Автогонки, Массовая культура</td>\n      <td>[Транспорт, Спорт: Автогонки, Массовая культура]</td>\n    </tr>\n    <tr>\n      <th>4</th>\n      <td>b01a682bf4dfcc09f1e8fac5bc18785a</td>\n      <td>В РОТ МНЕ НОТЫ #1 ВИТА ЧИКОВАНИ</td>\n      <td>В первом выпуске «В рот мне ноты» популярная п...</td>\n      <td>Массовая культура: Юмор и сатира</td>\n      <td>[Массовая культура: Юмор и сатира]</td>\n    </tr>\n  </tbody>\n</table>\n</div>"
     },
     "execution_count": 74,
     "metadata": {},
     "output_type": "execute_result"
    }
   ],
   "source": [
    "def split_tags(tags: str):\n",
    "\tsplitted_tags = list(filter(bool, map(str.strip, str(tags).replace('  ', ' ').split(','))))\n",
    "\treturn splitted_tags\n",
    "\n",
    "\n",
    "df = pd.read_csv('baseline/train_data_categories.csv')\n",
    "df['splitted_tags'] = df['tags'].apply(split_tags)\n",
    "df.head()"
   ],
   "metadata": {
    "collapsed": false,
    "ExecuteTime": {
     "end_time": "2024-09-28T07:37:57.915791Z",
     "start_time": "2024-09-28T07:37:57.888456Z"
    }
   },
   "id": "67307d72a1e8dd9f"
  },
  {
   "cell_type": "code",
   "execution_count": 74,
   "outputs": [],
   "source": [],
   "metadata": {
    "collapsed": false,
    "ExecuteTime": {
     "end_time": "2024-09-28T07:37:57.916028Z",
     "start_time": "2024-09-28T07:37:57.910528Z"
    }
   },
   "id": "dba6dcc856b17233"
  },
  {
   "cell_type": "code",
   "execution_count": 75,
   "outputs": [],
   "source": [
    "tokenizer = BertTokenizer.from_pretrained('bert-base-uncased')\n",
    "max_len = 256\n",
    "\n",
    "tags_encoder = {tag: idx for idx, tag in enumerate(iab_tags)}\n",
    "df['encoded_tags'] = df['splitted_tags'].apply(\n",
    "\tlambda tags: np.array([tags_encoder.get(tag, 0) for tag in tags])\n",
    ")"
   ],
   "metadata": {
    "collapsed": false,
    "ExecuteTime": {
     "end_time": "2024-09-28T07:37:58.110570Z",
     "start_time": "2024-09-28T07:37:57.914234Z"
    }
   },
   "id": "cb1884f643c428cf"
  },
  {
   "cell_type": "code",
   "execution_count": 76,
   "outputs": [],
   "source": [
    "train_df, test_df = train_test_split(df, test_size=0.1)\n",
    "train_dataset = VideoDataset(train_df['description'].values, train_df['encoded_tags'].tolist(), tokenizer, max_len)\n",
    "test_dataset = VideoDataset(test_df['description'].values, test_df['encoded_tags'].tolist(), tokenizer, max_len)"
   ],
   "metadata": {
    "collapsed": false,
    "ExecuteTime": {
     "end_time": "2024-09-28T07:37:58.115593Z",
     "start_time": "2024-09-28T07:37:58.111747Z"
    }
   },
   "id": "ee30fdf90ff40d28"
  },
  {
   "cell_type": "code",
   "execution_count": 77,
   "outputs": [
    {
     "name": "stderr",
     "output_type": "stream",
     "text": [
      "Some weights of VideoTaggerModel were not initialized from the model checkpoint at bert-base-uncased and are newly initialized: ['classifier.bias', 'classifier.weight']\n",
      "You should probably TRAIN this model on a down-stream task to be able to use it for predictions and inference.\n"
     ]
    }
   ],
   "source": [
    "model = VideoTaggerModel.from_pretrained('bert-base-uncased', num_labels=len(iab_tags))\n",
    "\n",
    "training_args = TrainingArguments(\n",
    "   output_dir='./results',\n",
    "   num_train_epochs=3,\n",
    "   per_device_train_batch_size=16,\n",
    "   per_device_eval_batch_size=16,\n",
    "   warmup_steps=500,\n",
    "   weight_decay=0.01,\n",
    "   logging_dir='./logs'\n",
    ")\n",
    "\n",
    "trainer = Trainer(\n",
    "   model=model,\n",
    "   args=training_args,\n",
    "   train_dataset=train_dataset,\n",
    "   eval_dataset=test_dataset\n",
    ")"
   ],
   "metadata": {
    "collapsed": false,
    "ExecuteTime": {
     "end_time": "2024-09-28T07:38:01.061422Z",
     "start_time": "2024-09-28T07:37:58.116398Z"
    }
   },
   "id": "d6957da7568bac34"
  },
  {
   "cell_type": "code",
   "execution_count": null,
   "outputs": [
    {
     "data": {
      "text/plain": "<IPython.core.display.HTML object>",
      "text/html": "\n    <div>\n      \n      <progress value='2' max='177' style='width:300px; height:20px; vertical-align: middle;'></progress>\n      [  2/177 : < :, Epoch 0.02/3]\n    </div>\n    <table border=\"1\" class=\"dataframe\">\n  <thead>\n <tr style=\"text-align: left;\">\n      <th>Step</th>\n      <th>Training Loss</th>\n    </tr>\n  </thead>\n  <tbody>\n  </tbody>\n</table><p>"
     },
     "metadata": {},
     "output_type": "display_data"
    }
   ],
   "source": [
    "trainer.train()"
   ],
   "metadata": {
    "collapsed": false,
    "is_executing": true,
    "ExecuteTime": {
     "start_time": "2024-09-28T07:38:01.255475Z"
    }
   },
   "id": "3c535629a3dc445b"
  }
 ],
 "metadata": {
  "kernelspec": {
   "display_name": "Python 3",
   "language": "python",
   "name": "python3"
  },
  "language_info": {
   "codemirror_mode": {
    "name": "ipython",
    "version": 2
   },
   "file_extension": ".py",
   "mimetype": "text/x-python",
   "name": "python",
   "nbconvert_exporter": "python",
   "pygments_lexer": "ipython2",
   "version": "2.7.6"
  }
 },
 "nbformat": 4,
 "nbformat_minor": 5
}
